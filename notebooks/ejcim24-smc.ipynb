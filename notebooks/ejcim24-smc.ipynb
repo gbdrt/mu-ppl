{
 "cells": [
  {
   "cell_type": "code",
   "execution_count": null,
   "metadata": {},
   "outputs": [],
   "source": [
    "%pip install git+https://github.com/gbdrt/mu-ppl"
   ]
  },
  {
   "cell_type": "markdown",
   "metadata": {},
   "source": [
    "# Introduction to Sequential Monte Carlo methods (SMC)\n",
    "\n",
    "SMC are an alternative to MCMC methods and are particularly well-suited for inference on state-space models, i.e., models used to reason about time series.\n",
    "\n",
    "In the following we focus on a very simple SSM, a Hidden Markov Model (HMM) which tries to track the position of a moving agent from noisy observations (e.g., detecting a boat using a radar).\n",
    "\n",
    "The model is a following: at each (discrete) time step, we assume that:\n",
    "1. the true position $X_t$ is normally distributed around the previous position $X_ {t-1}$, and \n",
    "2. the current observation $Y_t$ is normally distributed around $X_t$.\n",
    "\n",
    "\n",
    "$$\n",
    "X_t \\sim \\mathcal{N}(X_{t-1}, 1)\\\\\n",
    "Y_t \\sim \\mathcal{N}(X_t, 1)\n",
    "$$\n",
    "\n",
    "## Model in mu-ppl\n",
    "\n",
    "**Question 1.** Implement this model in mu-ppl."
   ]
  },
  {
   "cell_type": "code",
   "execution_count": null,
   "metadata": {},
   "outputs": [],
   "source": [
    "from mu_ppl import *\n",
    "from typing import List, Any, Iterator\n",
    "\n",
    "def hmm(data: List[float]) -> List[float]:\n",
    "    #TODO\n",
    "    return []"
   ]
  },
  {
   "cell_type": "markdown",
   "metadata": {},
   "source": [
    "Consider the following (very unrealistic) data."
   ]
  },
  {
   "cell_type": "code",
   "execution_count": null,
   "metadata": {},
   "outputs": [],
   "source": [
    "import numpy as np\n",
    "import matplotlib.pyplot as plt\n",
    "\n",
    "t = np.arange(0, 6.5, 0.2)\n",
    "data = np.sin(t)\n",
    "plt.scatter(t, data)\n"
   ]
  },
  {
   "cell_type": "markdown",
   "metadata": {},
   "source": [
    "**Question 2.** Try existing inference on this synthesized dataset."
   ]
  },
  {
   "cell_type": "code",
   "execution_count": null,
   "metadata": {},
   "outputs": [],
   "source": [
    "#TODO\n",
    "dist = None"
   ]
  },
  {
   "cell_type": "markdown",
   "metadata": {},
   "source": [
    "We can use `distribution.split` to turn a distribution over lists into a list of distribution and plot the estimations at each step."
   ]
  },
  {
   "cell_type": "code",
   "execution_count": null,
   "metadata": {},
   "outputs": [],
   "source": [
    "x_dists = split(dist)\n",
    "x_means, x_stds = np.array([d.stats() for d in x_dists]).T\n",
    "\n",
    "plt.plot(t, x_means)\n",
    "plt.fill_between(t, x_means - x_stds, x_means + x_stds, color='blue', alpha=0.2)\n",
    "plt.scatter(t, data, color='red')"
   ]
  },
  {
   "cell_type": "markdown",
   "metadata": {},
   "source": [
    "Depending on you choice of inference algorithm (and your compute time) your results may range from ok to terrible.\n",
    "\n",
    "**Question 3.** Rerun the previous cells using other inferences."
   ]
  },
  {
   "cell_type": "markdown",
   "metadata": {},
   "source": [
    "## Particle filtering\n",
    "\n",
    "Sequential monte carlo methods are also called \\emph{particle filters}.\n",
    "The basis is Importance Sampling.\n",
    "The inference launches a series of independent simulations, called _particles_.\n",
    "Each particles computes a value and a score which measures the quality of the particle w.r.t. the model.\n",
    "\n",
    "Problem: Importance Sampling behaves like a random walk. \n",
    "Each new sample is drawn completely at random regardless of the score of the particle.\n",
    "On the HMM model, at the end of the trajectory, any given particle would have to be extremely lucky to have sampled a trajectory that remains relatively close to all the observed data.\n",
    "\n",
    "To mitigate this issue, a particle filter periodically _resample_ the set of particle during the execution, duplicating the most relevant particles and discarding the worst ones.\n",
    "\n",
    "But, to implement this algorithm we need a _checkpointing_ mechanism to interrupt the execution of the particles.\n",
    "At each checkpoint, we can: \n",
    "\n",
    "1. interrupt all the particles, \n",
    "2. resample a new set of particles from their scores, \n",
    "3. reset the scores, \n",
    "4. resume execution until the next checkpoint.\n",
    "\n",
    "## Checkpoints and Python generators\n",
    "\n",
    "One way to implement this checkpointing mechanism is to _hardcode_ the notion of timestep into the model.\n",
    "In Python, a SSM will be a class with two methods:\n",
    "- the constructor `_init_` describes the first time step\n",
    "- the `step` function describes the transition to the next step"
   ]
  },
  {
   "cell_type": "code",
   "execution_count": null,
   "metadata": {},
   "outputs": [],
   "source": [
    "class SSM:\n",
    "    def __init__(self):\n",
    "        pass # What happens at the first step\n",
    "\n",
    "    def step(self, *args, **kwargs) -> Any:\n",
    "        pass # Transition to the next step"
   ]
  },
  {
   "cell_type": "markdown",
   "metadata": {},
   "source": [
    "**Question 4.** Re-implement the HMM models as an SSM."
   ]
  },
  {
   "cell_type": "code",
   "execution_count": null,
   "metadata": {},
   "outputs": [],
   "source": [
    "class HMM(SSM):\n",
    "    def __init__(self):\n",
    "        #TODO\n",
    "        pass\n",
    "\n",
    "    def step(self, y: float) -> float:\n",
    "        #TODO\n",
    "        return 0"
   ]
  },
  {
   "cell_type": "markdown",
   "metadata": {},
   "source": [
    "From this description, we can always unfold the model $n$ times to obtain something similar to the model used in the first part."
   ]
  },
  {
   "cell_type": "code",
   "execution_count": null,
   "metadata": {},
   "outputs": [],
   "source": [
    "def unfold_hmm(data: List[float]) -> List[float]:\n",
    "    hmm = HMM()\n",
    "    res = []\n",
    "    for y in data:\n",
    "        res.append(hmm.step(y))\n",
    "    return res"
   ]
  },
  {
   "cell_type": "markdown",
   "metadata": {},
   "source": [
    "**Question 5.** Retry to run any inference on the unfolded model."
   ]
  },
  {
   "cell_type": "code",
   "execution_count": null,
   "metadata": {},
   "outputs": [],
   "source": [
    "#TODO \n",
    "dist = None"
   ]
  },
  {
   "cell_type": "code",
   "execution_count": null,
   "metadata": {},
   "outputs": [],
   "source": [
    "x_dists = split(dist)\n",
    "x_means, x_stds = np.array([d.stats() for d in x_dists]).T\n",
    "\n",
    "plt.plot(t, x_means)\n",
    "plt.fill_between(t, x_means - x_stds, x_means + x_stds, color='blue', alpha=0.2)\n",
    "plt.scatter(t, data, color='red')"
   ]
  },
  {
   "cell_type": "markdown",
   "metadata": {},
   "source": [
    "## Resampling\n",
    "\n",
    "We now need a method to resample a set particles in the middle of the execution.\n",
    "Each particle corresponds to an instance of the model (written as a `SSM`).\n",
    "To clone a particle we can simply copy it (in Python we can use `deepcopy` to copy all the data structure).\n",
    "To resample a set of particles:\n",
    "1. turn a list of pair (particle, score) into a `Categorical` distribution\n",
    "2. sample $n$ new particles from this distribution.\n",
    "\n",
    "**Question 6.** Implement the `resample` method."
   ]
  },
  {
   "cell_type": "code",
   "execution_count": null,
   "metadata": {},
   "outputs": [],
   "source": [
    "from copy import deepcopy\n",
    "\n",
    "def resample(particles: List[SSM], scores: List[float]) -> List[SSM]:\n",
    "        #TODO\n",
    "        return []\n"
   ]
  },
  {
   "cell_type": "markdown",
   "metadata": {},
   "source": [
    "We now have everything to implement the `SMC` inference.\n",
    "\n",
    "At each time step, the `infer_stream` method:\n",
    "1. read one value from the input data.\n",
    "2. compute the values and scores of each particles\n",
    "3. returns the current distribution (using the Python `yield` construct)\n",
    "4. resample the set of particles before the next step.\n",
    "\n",
    "**Question 7.** Complete the following implementation."
   ]
  },
  {
   "cell_type": "code",
   "execution_count": null,
   "metadata": {},
   "outputs": [],
   "source": [
    "class SMC(ImportanceSampling):\n",
    "    \"\"\"\n",
    "    Sequential Monte-Carlo.\n",
    "\n",
    "    Model must be expressed as a state machine (SSM).\n",
    "    Similar to Importance sampling, but particles are resampled after each step.\n",
    "    \"\"\"\n",
    "\n",
    "    def infer_stream(self, ssm: type[SSM], data: List[Any]) -> Iterator[Categorical]:\n",
    "        particles: List[SSM] = []  #TODO initialise the particles\n",
    "        for y in data:  # at each step\n",
    "            values: List[Any] = []\n",
    "            scores: List[float] = []\n",
    "            for i in range(self.num_particles):\n",
    "                #TODO\n",
    "                pass\n",
    "            yield Categorical(list(zip(values, scores)))  # return current distribution\n",
    "            #TODO resample the particles"
   ]
  },
  {
   "cell_type": "markdown",
   "metadata": {},
   "source": [
    "We can finally test our new inference on our synthesized data."
   ]
  },
  {
   "cell_type": "code",
   "execution_count": null,
   "metadata": {},
   "outputs": [],
   "source": [
    "with SMC(num_particles=1000) as smc:\n",
    "    x_dists = smc.infer_stream(HMM, data)  # type: ignore \n",
    "    x_means, x_stds = np.array([d.stats() for d in x_dists]).T   "
   ]
  },
  {
   "cell_type": "code",
   "execution_count": null,
   "metadata": {},
   "outputs": [],
   "source": [
    "plt.plot(t, x_means)\n",
    "plt.fill_between(t, x_means - x_stds, x_means + x_stds, color='blue', alpha=0.2)\n",
    "plt.scatter(t, data, color='red')"
   ]
  },
  {
   "cell_type": "markdown",
   "metadata": {},
   "source": [
    "**Bonus**\n",
    "- Try to adapt the model to a 2D trajectory\n",
    "- Try a more complex motion model, e.g., $X_{t+1} \\sim N(f(X_{t}), 1)$"
   ]
  },
  {
   "cell_type": "markdown",
   "metadata": {},
   "source": []
  }
 ],
 "metadata": {
  "kernelspec": {
   "display_name": "mu-ppl",
   "language": "python",
   "name": "python3"
  },
  "language_info": {
   "codemirror_mode": {
    "name": "ipython",
    "version": 3
   },
   "file_extension": ".py",
   "mimetype": "text/x-python",
   "name": "python",
   "nbconvert_exporter": "python",
   "pygments_lexer": "ipython3",
   "version": "3.12.2"
  }
 },
 "nbformat": 4,
 "nbformat_minor": 2
}
